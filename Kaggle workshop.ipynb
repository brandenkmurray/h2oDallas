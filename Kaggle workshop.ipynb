{
 "cells": [
  {
   "cell_type": "markdown",
   "metadata": {},
   "source": [
    "### Kaggle workshop\n",
    "\n",
    "Let's load all needed libraries first."
   ]
  },
  {
   "cell_type": "code",
   "execution_count": null,
   "metadata": {
    "collapsed": false
   },
   "outputs": [],
   "source": [
    "library(data.table)\n",
    "library(zoo)\n",
    "library(caret)\n",
    "library(gtools)\n",
    "library(sqldf)\n",
    "library(doParallel)\n",
    "library(doRNG)\n",
    "library(VGAM)\n",
    "library(xgboost)\n",
    "library(Amelia)"
   ]
  },
  {
   "cell_type": "markdown",
   "metadata": {},
   "source": [
    "Set working folder, loading pre-defined cross-validation split in order to guarantee reproducibility. Also I'm defining how many cores I'm going to use to parallelize mean encoding feature generation. And in order to be able to run everything fast I'm using subsampling."
   ]
  },
  {
   "cell_type": "code",
   "execution_count": null,
   "metadata": {
    "collapsed": false
   },
   "outputs": [],
   "source": [
    "Sys.time()\n",
    "setwd(\"/Users/branden/h2oDallas\") # change your working directory \n",
    "load(\"./data_trans/cvFoldsList.rda\")\n",
    "threads <- max(detectCores() - 2, 1) # Used for parallelizing mean encoding feature generation\n",
    "row_sampling <- 5000 # Feature engineering requires a lot of memory, \n",
    "                    #so subsample for demonstration purposes -- set to <=0 for no sampling"
   ]
  },
  {
   "cell_type": "markdown",
   "metadata": {},
   "source": [
    "Load some very important functions we will use for feature generation, like:\n",
    "* my.f2cnt()\n",
    "* my.f3cnt()\n",
    "* catNWayAvgCV()\n",
    "* gold_features()\n",
    "* gold_featuresUnCor()"
   ]
  },
  {
   "cell_type": "code",
   "execution_count": null,
   "metadata": {
    "collapsed": true
   },
   "outputs": [],
   "source": [
    "source(\"./data_trans/utils.R\")"
   ]
  },
  {
   "cell_type": "markdown",
   "metadata": {},
   "source": [
    "The following feature interaction lists come from Dmitry, one of my teammates during the compeition.\n",
    "I believe he got these from the output from XGBFi which will be shown in a bit.\n",
    "\n",
    "Start with pairs of features."
   ]
  },
  {
   "cell_type": "code",
   "execution_count": null,
   "metadata": {
    "collapsed": true
   },
   "outputs": [],
   "source": [
    "comb2List <- list(c(\"v50\",\"v6\"),c(\"v21\",\"v5\"),c(\"v10\",\"v12\"),c(\"v50\",\"v78\"),\n",
    "                  c(\"v115\",\"v52\"),c(\"v21\",\"v24\"),c(\"v50\",\"v66\"),c(\"v30\",\"v40\"),\n",
    "                  c(\"v129\",\"v24\"),c(\"v3\",\"v50\"),c(\"v39\",\"v66\"),c(\"v34\",\"v56\"),\n",
    "                  c(\"v113\",\"v12\"),c(\"v114\",\"v22\"),c(\"v120\",\"v50\"),c(\"v50\",\"v90\"),\n",
    "                  c(\"v12\",\"v52\"),c(\"v34\",\"v91\"),c(\"v12\",\"v58\"),c(\"v14\",\"v22\"),\n",
    "                  c(\"v1\",\"v45\"),c(\"v40\",\"v66\"),c(\"v125\",\"v34\"),c(\"v2\",\"v21\"),\n",
    "                  c(\"v66\",\"v74\"),c(\"v31\",\"v56\"),c(\"v114\",\"v12\"),c(\"v24\",\"v30\"),\n",
    "                  c(\"v125\",\"v22\"),c(\"v113\",\"v22\"),c(\"v125\",\"v52\"),c(\"v39\",\"v50\"),\n",
    "                  c(\"v12\",\"v42\"),c(\"v10\",\"v47\"),c(\"v112\",\"v34\"),c(\"v21\",\"v72\"),\n",
    "                  c(\"v41\",\"v49\"),c(\"v10\",\"v66\"),c(\"v50\",\"v98\"),c(\"v10\",\"v114\"),\n",
    "                  c(\"v21\",\"v74\"),c(\"v113\",\"v21\"),c(\"v12\",\"v66\"),c(\"v24\",\"v45\"),\n",
    "                  c(\"v21\",\"v45\"),c(\"v50\",\"v52\"),c(\"v131\",\"v50\"),c(\"v12\",\"v88\"),\n",
    "                  c(\"v1\",\"v40\"),c(\"v34\",\"v40\"),c(\"v24\",\"v50\"),c(\"v22\",\"v56\"),\n",
    "                  c(\"v113\",\"v80\"),c(\"v122\",\"v50\"),c(\"v14\",\"v38\"),c(\"v10\",\"v91\"),\n",
    "                  c(\"v49\",\"v56\"),c(\"v10\",\"v56\"),c(\"v50\",\"v68\"),c(\"v16\",\"v34\"),\n",
    "                  c(\"v31\",\"v66\"),c(\"v106\",\"v56\"),c(\"v112\",\"v14\"),c(\"v34\",\"v52\"),\n",
    "                  c(\"v50\",\"v69\"),c(\"v113\",\"v56\"),c(\"v12\",\"v47\"),c(\"v10\",\"v24\"),\n",
    "                  c(\"v50\",\"v80\"),c(\"v125\",\"v47\"),c(\"v113\",\"v66\"),c(\"v21\",\"v69\"),\n",
    "                  c(\"v113\",\"v50\"),c(\"v38\",\"v56\"),c(\"v115\",\"v34\"),c(\"v14\",\"v39\"),\n",
    "                  c(\"v14\",\"v72\"),c(\"v14\",\"v50\"),c(\"v113\",\"v131\"),c(\"v21\",\"v56\"),\n",
    "                  c(\"v114\",\"v47\"),c(\"v125\",\"v14\"),c(\"v113\",\"v24\"),c(\"v50\",\"v91\"),\n",
    "                  c(\"v12\",\"v99\"),c(\"v125\",\"v24\"),c(\"v58\",\"v85\"),c(\"v1\",\"v50\"),\n",
    "                  c(\"v56\",\"v85\"),c(\"v21\",\"v47\"),c(\"v12\",\"v71\"),c(\"v125\",\"v18\"),\n",
    "                  c(\"v21\",\"v6\"),c(\"v50\",\"v72\"),c(\"v131\",\"v34\"),c(\"v40\",\"v52\"),\n",
    "                  c(\"v21\",\"v58\"),c(\"v10\",\"v21\"),c(\"v127\",\"v56\"),c(\"v66\",\"v71\"),\n",
    "                  c(\"v34\",\"v50\"),c(\"v131\",\"v27\"),c(\"v30\",\"v66\"),c(\"v45\",\"v56\"),\n",
    "                  c(\"v100\",\"v114\"),c(\"v45\",\"v66\"),c(\"v56\",\"v88\"),c(\"v14\",\"v78\"),\n",
    "                  c(\"v21\",\"v85\"),c(\"v112\",\"v56\"),c(\"v100\",\"v80\"),c(\"v30\",\"v34\"),\n",
    "                  c(\"v114\",\"v40\"),c(\"v50\",\"v99\"),c(\"v44\",\"v56\"),c(\"v10\",\"v125\"),\n",
    "                  c(\"v12\",\"v18\"),c(\"v14\",\"v21\"),c(\"v113\",\"v14\"),c(\"v114\",\"v52\"),\n",
    "                  c(\"v47\",\"v56\"),c(\"v56\",\"v80\"),c(\"v24\",\"v40\"),c(\"v100\",\"v14\"),\n",
    "                  c(\"v45\",\"v50\"),c(\"v113\",\"v47\"),c(\"v22\",\"v40\"),c(\"v113\",\"v34\"),\n",
    "                  c(\"v1\",\"v56\"),c(\"v30\",\"v91\"),c(\"v112\",\"v40\"),c(\"v112\",\"v21\"),\n",
    "                  c(\"v24\",\"v72\"),c(\"v22\",\"v52\"),c(\"v31\",\"v47\"),c(\"v30\",\"v56\"),\n",
    "                  c(\"v10\",\"v62\"),c(\"v10\",\"v40\"),c(\"v38\",\"v66\"),c(\"v56\",\"v66\"),\n",
    "                  c(\"v21\",\"v52\"),c(\"v112\",\"v114\"),c(\"v31\",\"v50\"),c(\"v113\",\"v125\"),\n",
    "                  c(\"v100\",\"v66\"),c(\"v14\",\"v66\"),c(\"v34\",\"v47\"),c(\"v38\",\"v50\"),\n",
    "                  c(\"v1\",\"v14\"),c(\"v24\",\"v66\"),c(\"v40\",\"v47\"),c(\"v24\",\"v56\"),\n",
    "                  c(\"v14\",\"v24\"),c(\"v50\",\"v7\"),c(\"v100\",\"v27\"),c(\"v114\",\"v14\"),\n",
    "                  c(\"v10\",\"v50\"),c(\"v114\",\"v50\"),c(\"v40\",\"v74\"),c(\"v12\",\"v30\"),\n",
    "                  c(\"v115\",\"v21\"),c(\"v112\",\"v113\"),c(\"v24\",\"v31\"),c(\"v125\",\"v56\"),\n",
    "                  c(\"v56\",\"v99\"),c(\"v52\",\"v6\"),c(\"v12\",\"v56\"),c(\"v100\",\"v56\"),\n",
    "                  c(\"v14\",\"v47\"),c(\"v114\",\"v71\"),c(\"v113\",\"v45\"),c(\"v10\",\"v14\"),\n",
    "                  c(\"v56\",\"v68\"),c(\"v21\",\"v22\"),c(\"v50\",\"v85\"),c(\"v40\",\"v50\"),\n",
    "                  c(\"v12\",\"v40\"),c(\"v129\",\"v66\"),c(\"v19\",\"v50\"),c(\"v47\",\"v66\"),\n",
    "                  c(\"v113\",\"v114\"),c(\"v34\",\"v51\"),c(\"v50\",\"v6\"),c(\"v56\",\"v72\"),\n",
    "                  c(\"v129\",\"v50\"),c(\"v125\",\"v21\"),c(\"v50\",\"v56\"),c(\"v22\",\"v34\"),\n",
    "                  c(\"v114\",\"v58\"),c(\"v12\",\"v91\"),c(\"v21\",\"v40\"),c(\"v24\",\"v68\"),\n",
    "                  c(\"v14\",\"v80\"),c(\"v39\",\"v6\"),c(\"v131\",\"v6\"),c(\"v12\",\"v39\"),\n",
    "                  c(\"v12\",\"v21\"),c(\"v12\",\"v125\"),c(\"v12\",\"v14\"),c(\"v56\",\"v87\"),\n",
    "                  c(\"v45\",\"v47\"),c(\"v24\",\"v6\"),c(\"v113\",\"v72\"),c(\"v12\",\"v50\"),\n",
    "                  c(\"v14\",\"v40\"),c(\"v100\",\"v40\"),c(\"v47\",\"v50\"),c(\"v56\",\"v58\"),\n",
    "                  c(\"v24\",\"v34\"),c(\"v115\",\"v50\"),c(\"v24\",\"v62\"),c(\"v39\",\"v56\"),\n",
    "                  c(\"v100\",\"v24\"),c(\"v52\",\"v56\"),c(\"v18\",\"v21\"),c(\"v12\",\"v24\"),\n",
    "                  c(\"v113\",\"v40\"),c(\"v30\",\"v47\"),c(\"v12\",\"v5\"),c(\"v50\",\"v60\"),\n",
    "                  c(\"v14\",\"v52\"),c(\"v127\",\"v98\"),c(\"v12\",\"v120\"),c(\"v50\",\"v74\"),\n",
    "                  c(\"v66\",\"v72\"),c(\"v112\",\"v52\"),c(\"v100\",\"v50\"),c(\"v45\",\"v72\"),\n",
    "                  c(\"v40\",\"v56\"),c(\"v34\",\"v6\"),c(\"v125\",\"v40\"),c(\"v125\",\"v50\"),\n",
    "                  c(\"v114\",\"v34\"),c(\"v34\",\"v35\"),c(\"v127\",\"v39\"),c(\"v114\",\"v66\"),\n",
    "                  c(\"v24\",\"v47\"),c(\"v45\",\"v90\"),c(\"v12\",\"v38\"),c(\"v50\",\"v97\"),\n",
    "                  c(\"v21\",\"v5\"),c(\"v30\",\"v50\"),c(\"v112\",\"v12\"),c(\"v14\",\"v34\"),\n",
    "                  c(\"v120\",\"v45\"),c(\"v38\",\"v78\"),c(\"v114\",\"v125\"),c(\"v114\",\"v56\"),\n",
    "                  c(\"v127\",\"v21\"),c(\"v114\",\"v21\"),c(\"v22\",\"v50\"),c(\"v12\",\"v34\"),\n",
    "                  c(\"v34\",\"v66\"),c(\"v14\",\"v56\"),c(\"v12\",\"v22\"),c(\"v40\",\"v99\"),\n",
    "                  c(\"v11\",\"v50\"),c(\"v12\",\"v85\"),c(\"v29\",\"v77\"),c(\"v24\",\"v52\"),\n",
    "                  c(\"v12\",\"v78\"),c(\"v28\",\"v50\"),c(\"v112\",\"v47\"),c(\"v114\",\"v24\"),\n",
    "                  c(\"v80\",\"v99\"),c(\"v129\",\"v56\"),c(\"v127\",\"v19\"),c(\"v14\",\"v99\"),\n",
    "                  c(\"v21\",\"v34\"),c(\"v10\",\"v52\"),c(\"v10\",\"v113\"),c(\"v10\",\"v34\"),\n",
    "                  c(\"v112\",\"v50\"),c(\"v100\",\"v47\"),c(\"v21\",\"v66\"),c(\"v1\",\"v120\"),\n",
    "                  c(\"v115\",\"v12\"))"
   ]
  },
  {
   "cell_type": "markdown",
   "metadata": {},
   "source": [
    "Now three-way interactions"
   ]
  },
  {
   "cell_type": "code",
   "execution_count": null,
   "metadata": {
    "collapsed": true
   },
   "outputs": [],
   "source": [
    "comb3List <- list(c(\"v12\",\"v24\",\"v56\"),c(\"v113\",\"v14\",\"v40\"),c(\"v113\",\"v14\",\"v66\"),c(\"v38\",\"v50\",\"v78\"),\n",
    "                  c(\"v34\",\"v40\",\"v66\"),c(\"v12\",\"v14\",\"v50\"),c(\"v56\",\"v66\",\"v72\"),c(\"v21\",\"v24\",\"v50\"),c(\"v113\",\"v31\",\"v56\"),\n",
    "                  c(\"v113\",\"v14\",\"v34\"),c(\"v21\",\"v47\",\"v50\"),c(\"v12\",\"v47\",\"v56\"),c(\"v40\",\"v50\",\"v66\"),\n",
    "                  c(\"v38\",\"v47\",\"v50\"),c(\"v129\",\"v50\",\"v56\"),c(\"v24\",\"v40\",\"v66\"),c(\"v113\",\"v31\",\"v50\"),\n",
    "                  c(\"v10\",\"v12\",\"v14\"),c(\"v24\",\"v50\",\"v66\"),c(\"v31\",\"v50\",\"v66\"),c(\"v10\",\"v34\",\"v66\"),\n",
    "                  c(\"v12\",\"v24\",\"v47\"),c(\"v12\",\"v38\",\"v50\"),c(\"v12\",\"v50\",\"v66\"),c(\"v50\",\"v60\",\"v66\"),\n",
    "                  c(\"v14\",\"v21\",\"v40\"),c(\"v10\",\"v21\",\"v66\"),c(\"v10\",\"v40\",\"v66\"),c(\"v31\",\"v47\",\"v66\"),\n",
    "                  c(\"v21\",\"v50\",\"v66\"),c(\"v113\",\"v40\",\"v50\"),c(\"v114\",\"v14\",\"v66\"),c(\"v10\",\"v14\",\"v50\"),\n",
    "                  c(\"v14\",\"v34\",\"v50\"),c(\"v34\",\"v56\",\"v66\"),c(\"v34\",\"v47\",\"v50\"),c(\"v40\",\"v50\",\"v74\"),\n",
    "                  c(\"v114\",\"v40\",\"v66\"),c(\"v125\",\"v34\",\"v40\"),c(\"v30\",\"v40\",\"v47\"),c(\"v131\",\"v50\",\"v66\"),\n",
    "                  c(\"v114\",\"v47\",\"v66\"),c(\"v10\",\"v14\",\"v40\"),c(\"v45\",\"v50\",\"v72\"),c(\"v10\",\"v50\",\"v66\"),\n",
    "                  c(\"v31\",\"v56\",\"v66\"),c(\"v12\",\"v34\",\"v66\"),c(\"v113\",\"v114\",\"v24\"),c(\"v10\",\"v12\",\"v125\"),\n",
    "                  c(\"v12\",\"v40\",\"v66\"),c(\"v34\",\"v51\",\"v66\"),c(\"v10\",\"v113\",\"v12\"),c(\"v100\",\"v40\",\"v66\"),\n",
    "                  c(\"v50\",\"v56\",\"v80\"),c(\"v50\",\"v66\",\"v97\"),c(\"v10\",\"v47\",\"v56\"),c(\"v12\",\"v14\",\"v56\"),\n",
    "                  c(\"v129\",\"v31\",\"v50\"),c(\"v114\",\"v56\",\"v66\"),c(\"v50\",\"v66\",\"v72\"),c(\"v114\",\"v50\",\"v56\"),\n",
    "                  c(\"v113\",\"v129\",\"v66\"),c(\"v10\",\"v114\",\"v50\"),c(\"v28\",\"v50\",\"v66\"),c(\"v12\",\"v50\",\"v56\"),\n",
    "                  c(\"v10\",\"v50\",\"v56\"),c(\"v10\",\"v40\",\"v50\"),c(\"v113\",\"v47\",\"v50\"),c(\"v10\",\"v114\",\"v66\"),\n",
    "                  c(\"v114\",\"v14\",\"v47\"),c(\"v14\",\"v47\",\"v50\"),c(\"v40\",\"v66\",\"v74\"),c(\"v14\",\"v38\",\"v66\"),\n",
    "                  c(\"v10\",\"v21\",\"v50\"),c(\"v50\",\"v66\",\"v93\"),c(\"v14\",\"v21\",\"v50\"),c(\"v21\",\"v40\",\"v56\"),\n",
    "                  c(\"v50\",\"v56\",\"v68\"),c(\"v129\",\"v56\",\"v66\"),c(\"v12\",\"v14\",\"v66\"),c(\"v10\",\"v12\",\"v66\"),\n",
    "                  c(\"v10\",\"v114\",\"v12\"),c(\"v34\",\"v50\",\"v66\"),c(\"v100\",\"v113\",\"v47\"),c(\"v14\",\"v38\",\"v50\"),\n",
    "                  c(\"v113\",\"v50\",\"v72\"),c(\"v10\",\"v14\",\"v56\"),c(\"v24\",\"v34\",\"v56\"),c(\"v14\",\"v47\",\"v66\"),\n",
    "                  c(\"v12\",\"v24\",\"v66\"),c(\"v10\",\"v12\",\"v50\"),c(\"v14\",\"v56\",\"v66\"),c(\"v113\",\"v24\",\"v66\"),\n",
    "                  c(\"v21\",\"v50\",\"v74\"),c(\"v129\",\"v14\",\"v66\"),c(\"v113\",\"v114\",\"v66\"),c(\"v12\",\"v31\",\"v66\"),\n",
    "                  c(\"v30\",\"v47\",\"v66\"),c(\"v30\",\"v40\",\"v66\"),c(\"v47\",\"v56\",\"v66\"),c(\"v12\",\"v47\",\"v66\"),\n",
    "                  c(\"v45\",\"v56\",\"v66\"),c(\"v21\",\"v24\",\"v66\"),c(\"v12\",\"v14\",\"v40\"),c(\"v113\",\"v56\",\"v66\"),\n",
    "                  c(\"v24\",\"v50\",\"v72\"),c(\"v10\",\"v12\",\"v21\"),c(\"v24\",\"v56\",\"v66\"),c(\"v24\",\"v50\",\"v56\"),\n",
    "                  c(\"v100\",\"v47\",\"v50\"),c(\"v50\",\"v66\",\"v74\"),c(\"v113\",\"v12\",\"v66\"),c(\"v14\",\"v34\",\"v40\"),\n",
    "                  c(\"v14\",\"v50\",\"v99\"),c(\"v12\",\"v21\",\"v66\"),c(\"v10\",\"v31\",\"v66\"),c(\"v47\",\"v50\",\"v56\"),\n",
    "                  c(\"v14\",\"v50\",\"v56\"),c(\"v40\",\"v66\",\"v7\"),c(\"v30\",\"v34\",\"v47\"),c(\"v129\",\"v40\",\"v50\"),\n",
    "                  c(\"v50\",\"v66\",\"v7\"),c(\"v38\",\"v50\",\"v66\"),c(\"v10\",\"v113\",\"v14\"),c(\"v14\",\"v34\",\"v66\"),\n",
    "                  c(\"v34\",\"v50\",\"v56\"),c(\"v114\",\"v12\",\"v40\"),c(\"v114\",\"v47\",\"v50\"),c(\"v100\",\"v47\",\"v66\"),\n",
    "                  c(\"v24\",\"v47\",\"v56\"),c(\"v34\",\"v47\",\"v66\"),c(\"v10\",\"v113\",\"v24\"),c(\"v30\",\"v50\",\"v66\"),\n",
    "                  c(\"v114\",\"v14\",\"v50\"),c(\"v114\",\"v24\",\"v47\"),c(\"v113\",\"v24\",\"v31\"),c(\"v113\",\"v34\",\"v40\"),\n",
    "                  c(\"v50\",\"v62\",\"v66\"),c(\"v114\",\"v12\",\"v56\"),c(\"v24\",\"v31\",\"v56\"),c(\"v40\",\"v66\",\"v71\"),\n",
    "                  c(\"v31\",\"v47\",\"v50\"),c(\"v34\",\"v66\",\"v71\"),c(\"v129\",\"v24\",\"v66\"),c(\"v14\",\"v24\",\"v66\"),\n",
    "                  c(\"v10\",\"v114\",\"v47\"),c(\"v10\",\"v56\",\"v66\"),c(\"v113\",\"v14\",\"v24\"),c(\"v14\",\"v40\",\"v47\"),\n",
    "                  c(\"v10\",\"v21\",\"v56\"),c(\"v21\",\"v40\",\"v66\"),c(\"v125\",\"v50\",\"v66\"),c(\"v12\",\"v21\",\"v50\"),\n",
    "                  c(\"v10\",\"v14\",\"v21\"),c(\"v40\",\"v66\",\"v72\"),c(\"v40\",\"v50\",\"v56\"),c(\"v24\",\"v40\",\"v47\"),\n",
    "                  c(\"v38\",\"v47\",\"v66\"),c(\"v24\",\"v31\",\"v50\"),c(\"v14\",\"v47\",\"v56\"),c(\"v10\",\"v113\",\"v66\"),\n",
    "                  c(\"v129\",\"v24\",\"v56\"),c(\"v21\",\"v56\",\"v85\"),c(\"v129\",\"v40\",\"v66\"),c(\"v21\",\"v47\",\"v56\"),\n",
    "                  c(\"v31\",\"v40\",\"v50\"),c(\"v10\",\"v47\",\"v66\"),c(\"v113\",\"v40\",\"v47\"),c(\"v10\",\"v47\",\"v50\"),\n",
    "                  c(\"v113\",\"v47\",\"v66\"),c(\"v10\",\"v12\",\"v40\"),c(\"v14\",\"v40\",\"v66\"),c(\"v113\",\"v114\",\"v50\"),\n",
    "                  c(\"v113\",\"v40\",\"v56\"),c(\"v10\",\"v50\",\"v52\"),c(\"v30\",\"v34\",\"v66\"),c(\"v12\",\"v21\",\"v56\"),\n",
    "                  c(\"v34\",\"v47\",\"v56\"),c(\"v114\",\"v24\",\"v50\"),c(\"v24\",\"v45\",\"v56\"),c(\"v50\",\"v56\",\"v88\"),\n",
    "                  c(\"v21\",\"v56\",\"v66\"),c(\"v40\",\"v47\",\"v66\"),c(\"v10\",\"v12\",\"v24\"),c(\"v21\",\"v34\",\"v66\"),\n",
    "                  c(\"v10\",\"v12\",\"v47\"),c(\"v24\",\"v30\",\"v47\"),c(\"v10\",\"v12\",\"v56\"),c(\"v40\",\"v47\",\"v50\"),\n",
    "                  c(\"v114\",\"v47\",\"v56\"),c(\"v34\",\"v40\",\"v50\"),c(\"v113\",\"v24\",\"v56\"),c(\"v50\",\"v66\",\"v71\"),\n",
    "                  c(\"v114\",\"v34\",\"v47\"),c(\"v114\",\"v40\",\"v50\"),c(\"v114\",\"v34\",\"v66\"),c(\"v14\",\"v31\",\"v50\"),\n",
    "                  c(\"v100\",\"v24\",\"v47\"),c(\"v21\",\"v50\",\"v56\"),c(\"v24\",\"v31\",\"v66\"),c(\"v114\",\"v21\",\"v50\"),\n",
    "                  c(\"v113\",\"v12\",\"v14\"),c(\"v14\",\"v40\",\"v50\"),c(\"v24\",\"v34\",\"v50\"),c(\"v21\",\"v24\",\"v47\"),\n",
    "                  c(\"v14\",\"v34\",\"v47\"),c(\"v10\",\"v24\",\"v66\"),c(\"v114\",\"v31\",\"v50\"),c(\"v3\",\"v50\",\"v66\"),\n",
    "                  c(\"v10\",\"v12\",\"v34\"),c(\"v113\",\"v24\",\"v34\"),c(\"v113\",\"v40\",\"v66\"),c(\"v24\",\"v40\",\"v50\"),\n",
    "                  c(\"v39\",\"v50\",\"v66\"),c(\"v24\",\"v47\",\"v66\"),c(\"v113\",\"v14\",\"v47\"),c(\"v113\",\"v14\",\"v50\"),\n",
    "                  c(\"v21\",\"v40\",\"v50\"),c(\"v24\",\"v47\",\"v50\"),c(\"v100\",\"v50\",\"v66\"),c(\"v10\",\"v24\",\"v56\"),\n",
    "                  c(\"v129\",\"v50\",\"v66\"),c(\"v12\",\"v56\",\"v66\"),c(\"v113\",\"v12\",\"v24\"),c(\"v34\",\"v40\",\"v47\"),\n",
    "                  c(\"v113\",\"v114\",\"v47\"),c(\"v113\",\"v24\",\"v50\"),c(\"v113\",\"v24\",\"v47\"),c(\"v24\",\"v40\",\"v56\"),\n",
    "                  c(\"v1\",\"v50\",\"v56\"),c(\"v24\",\"v34\",\"v66\"),c(\"v24\",\"v34\",\"v47\"),c(\"v114\",\"v66\",\"v71\"),\n",
    "                  c(\"v31\",\"v45\",\"v56\"),c(\"v114\",\"v24\",\"v66\"),c(\"v113\",\"v31\",\"v66\"),c(\"v114\",\"v50\",\"v66\"),\n",
    "                  c(\"v10\",\"v34\",\"v50\"),c(\"v21\",\"v40\",\"v47\"),c(\"v40\",\"v56\",\"v66\"),c(\"v14\",\"v24\",\"v47\"),\n",
    "                  c(\"v113\",\"v34\",\"v50\"),c(\"v113\",\"v34\",\"v66\"),c(\"v113\",\"v50\",\"v66\"),c(\"v10\",\"v24\",\"v47\"),\n",
    "                  c(\"v50\",\"v56\",\"v66\"),c(\"v40\",\"v47\",\"v56\"),c(\"v31\",\"v50\",\"v56\"),c(\"v47\",\"v50\",\"v66\"),\n",
    "                  c(\"v24\",\"v31\",\"v47\"),c(\"v24\",\"v38\",\"v50\"),c(\"v113\",\"v24\",\"v40\"),c(\"v113\",\"v50\",\"v56\"),\n",
    "                  c(\"v113\",\"v34\",\"v47\"),c(\"v14\",\"v24\",\"v50\"),c(\"v12\",\"v14\",\"v24\"),c(\"v14\",\"v50\",\"v66\"),\n",
    "                  c(\"v10\",\"v14\",\"v66\"),c(\"v31\",\"v40\",\"v66\"))"
   ]
  },
  {
   "cell_type": "markdown",
   "metadata": {},
   "source": [
    "And, finally, quadruples"
   ]
  },
  {
   "cell_type": "code",
   "execution_count": null,
   "metadata": {
    "collapsed": true
   },
   "outputs": [],
   "source": [
    "comb4List <- list(c(\"v100\",\"v40\",\"v50\",\"v66\"),c(\"v34\",\"v40\",\"v47\",\"v66\"),c(\"v34\",\"v47\",\"v56\",\"v66\"),c(\"v34\",\"v40\",\"v50\",\"v66\"),\n",
    "                  c(\"v31\",\"v40\",\"v50\",\"v66\"),c(\"v31\",\"v47\",\"v56\",\"v66\"),c(\"v114\",\"v31\",\"v50\",\"v66\"),c(\"v114\",\"v47\",\"v50\",\"v66\"),\n",
    "                  c(\"v31\",\"v47\",\"v50\",\"v56\"),c(\"v24\",\"v50\",\"v66\",\"v72\"),c(\"v24\",\"v40\",\"v47\",\"v56\"),c(\"v21\",\"v40\",\"v50\",\"v66\"),\n",
    "                  c(\"v40\",\"v50\",\"v56\",\"v66\"),c(\"v113\",\"v31\",\"v50\",\"v56\"),c(\"v129\",\"v50\",\"v56\",\"v66\"),c(\"v114\",\"v14\",\"v47\",\"v50\"),\n",
    "                  c(\"v113\",\"v12\",\"v24\",\"v66\"),c(\"v24\",\"v34\",\"v50\",\"v66\"),c(\"v114\",\"v40\",\"v47\",\"v66\"),c(\"v24\",\"v45\",\"v56\",\"v66\"),\n",
    "                  c(\"v114\",\"v14\",\"v50\",\"v66\"),c(\"v30\",\"v40\",\"v47\",\"v66\"),c(\"v24\",\"v31\",\"v50\",\"v66\"),c(\"v10\",\"v24\",\"v50\",\"v66\"),\n",
    "                  c(\"v12\",\"v47\",\"v50\",\"v66\"),c(\"v129\",\"v40\",\"v50\",\"v56\"),c(\"v12\",\"v40\",\"v50\",\"v66\"),c(\"v10\",\"v34\",\"v47\",\"v66\"),\n",
    "                  c(\"v113\",\"v40\",\"v50\",\"v66\"),c(\"v10\",\"v31\",\"v56\",\"v66\"),c(\"v10\",\"v113\",\"v14\",\"v66\"),c(\"v24\",\"v34\",\"v40\",\"v66\"),\n",
    "                  c(\"v10\",\"v40\",\"v50\",\"v66\"),c(\"v113\",\"v31\",\"v50\",\"v66\"),c(\"v40\",\"v50\",\"v66\",\"v7\"),c(\"v24\",\"v34\",\"v47\",\"v66\"),\n",
    "                  c(\"v113\",\"v34\",\"v50\",\"v66\"),c(\"v12\",\"v24\",\"v47\",\"v66\"),c(\"v14\",\"v34\",\"v50\",\"v66\"),c(\"v10\",\"v114\",\"v47\",\"v66\"),\n",
    "                  c(\"v31\",\"v47\",\"v50\",\"v66\"),c(\"v114\",\"v24\",\"v50\",\"v66\"),c(\"v10\",\"v113\",\"v24\",\"v66\"),c(\"v113\",\"v14\",\"v50\",\"v66\"),\n",
    "                  c(\"v113\",\"v12\",\"v14\",\"v66\"),c(\"v24\",\"v40\",\"v50\",\"v66\"),c(\"v129\",\"v40\",\"v50\",\"v66\"),c(\"v113\",\"v114\",\"v47\",\"v66\"),\n",
    "                  c(\"v14\",\"v24\",\"v47\",\"v66\"),c(\"v21\",\"v47\",\"v50\",\"v66\"),c(\"v10\",\"v24\",\"v47\",\"v66\"),c(\"v24\",\"v34\",\"v47\",\"v50\"),\n",
    "                  c(\"v10\",\"v114\",\"v50\",\"v66\"),c(\"v34\",\"v47\",\"v50\",\"v66\"),c(\"v10\",\"v12\",\"v47\",\"v66\"),c(\"v38\",\"v47\",\"v50\",\"v66\"),\n",
    "                  c(\"v113\",\"v50\",\"v56\",\"v66\"),c(\"v12\",\"v14\",\"v47\",\"v66\"),c(\"v31\",\"v50\",\"v56\",\"v66\"),c(\"v21\",\"v50\",\"v66\",\"v74\"),\n",
    "                  c(\"v14\",\"v40\",\"v50\",\"v66\"),c(\"v21\",\"v24\",\"v47\",\"v50\"),c(\"v114\",\"v129\",\"v50\",\"v66\"),c(\"v113\",\"v24\",\"v31\",\"v66\"),\n",
    "                  c(\"v113\",\"v21\",\"v50\",\"v66\"),c(\"v30\",\"v34\",\"v50\",\"v66\"),c(\"v10\",\"v47\",\"v56\",\"v66\"),c(\"v14\",\"v31\",\"v50\",\"v66\"),\n",
    "                  c(\"v113\",\"v114\",\"v50\",\"v66\"),c(\"v129\",\"v50\",\"v56\",\"v68\"),c(\"v10\",\"v31\",\"v40\",\"v66\"),c(\"v113\",\"v47\",\"v50\",\"v66\"),\n",
    "                  c(\"v113\",\"v14\",\"v24\",\"v66\"),c(\"v24\",\"v40\",\"v47\",\"v50\"),c(\"v30\",\"v47\",\"v50\",\"v66\"),c(\"v31\",\"v40\",\"v47\",\"v66\"),\n",
    "                  c(\"v3\",\"v40\",\"v50\",\"v66\"),c(\"v14\",\"v38\",\"v50\",\"v66\"),c(\"v10\",\"v12\",\"v31\",\"v66\"),c(\"v10\",\"v113\",\"v12\",\"v31\"),\n",
    "                  c(\"v114\",\"v24\",\"v47\",\"v50\"),c(\"v12\",\"v31\",\"v47\",\"v66\"),c(\"v129\",\"v31\",\"v50\",\"v66\"),c(\"v14\",\"v40\",\"v47\",\"v66\"),\n",
    "                  c(\"v24\",\"v30\",\"v34\",\"v47\"),c(\"v114\",\"v40\",\"v50\",\"v66\"),c(\"v10\",\"v34\",\"v50\",\"v66\"),c(\"v10\",\"v113\",\"v50\",\"v66\"),\n",
    "                  c(\"v24\",\"v31\",\"v56\",\"v66\"),c(\"v40\",\"v50\",\"v60\",\"v66\"),c(\"v113\",\"v24\",\"v40\",\"v47\"),c(\"v113\",\"v14\",\"v47\",\"v66\"),\n",
    "                  c(\"v31\",\"v50\",\"v56\",\"v68\"),c(\"v129\",\"v24\",\"v50\",\"v66\"),c(\"v24\",\"v47\",\"v56\",\"v66\"),c(\"v100\",\"v47\",\"v50\",\"v66\"),\n",
    "                  c(\"v113\",\"v34\",\"v47\",\"v66\"),c(\"v24\",\"v40\",\"v47\",\"v66\"),c(\"v24\",\"v31\",\"v47\",\"v50\"),c(\"v113\",\"v129\",\"v14\",\"v66\"),\n",
    "                  c(\"v12\",\"v50\",\"v56\",\"v66\"),c(\"v10\",\"v113\",\"v31\",\"v66\"),c(\"v40\",\"v47\",\"v50\",\"v74\"),c(\"v113\",\"v24\",\"v31\",\"v56\"),\n",
    "                  c(\"v113\",\"v24\",\"v47\",\"v66\"),c(\"v10\",\"v113\",\"v40\",\"v66\"),c(\"v12\",\"v21\",\"v50\",\"v56\"),c(\"v10\",\"v113\",\"v12\",\"v24\"),\n",
    "                  c(\"v113\",\"v24\",\"v40\",\"v66\"),c(\"v47\",\"v50\",\"v66\",\"v72\"),c(\"v24\",\"v30\",\"v47\",\"v66\"),c(\"v113\",\"v24\",\"v50\",\"v66\"),\n",
    "                  c(\"v30\",\"v50\",\"v56\",\"v66\"),c(\"v34\",\"v50\",\"v56\",\"v66\"),c(\"v113\",\"v40\",\"v47\",\"v50\"),c(\"v114\",\"v34\",\"v47\",\"v66\"),\n",
    "                  c(\"v12\",\"v24\",\"v40\",\"v66\"),c(\"v113\",\"v40\",\"v47\",\"v66\"),c(\"v10\",\"v47\",\"v50\",\"v66\"),c(\"v10\",\"v31\",\"v34\",\"v66\"),\n",
    "                  c(\"v24\",\"v30\",\"v40\",\"v47\"),c(\"v31\",\"v45\",\"v56\",\"v66\"),c(\"v24\",\"v47\",\"v50\",\"v66\"),c(\"v31\",\"v40\",\"v56\",\"v66\"),\n",
    "                  c(\"v114\",\"v24\",\"v47\",\"v66\"),c(\"v21\",\"v34\",\"v50\",\"v66\"),c(\"v24\",\"v31\",\"v47\",\"v66\"),c(\"v10\",\"v50\",\"v56\",\"v66\"),\n",
    "                  c(\"v114\",\"v34\",\"v47\",\"v50\"),c(\"v10\",\"v31\",\"v47\",\"v66\"),c(\"v24\",\"v40\",\"v56\",\"v66\"),c(\"v24\",\"v34\",\"v47\",\"v56\"),\n",
    "                  c(\"v10\",\"v100\",\"v47\",\"v66\"),c(\"v10\",\"v40\",\"v47\",\"v66\"),c(\"v12\",\"v34\",\"v50\",\"v66\"),c(\"v10\",\"v14\",\"v50\",\"v66\"),\n",
    "                  c(\"v40\",\"v47\",\"v50\",\"v66\"),c(\"v40\",\"v47\",\"v56\",\"v66\"),c(\"v31\",\"v34\",\"v47\",\"v66\"),c(\"v10\",\"v21\",\"v50\",\"v66\"),\n",
    "                  c(\"v38\",\"v50\",\"v66\",\"v78\"),c(\"v113\",\"v114\",\"v24\",\"v66\"),c(\"v21\",\"v40\",\"v47\",\"v50\"),c(\"v10\",\"v12\",\"v24\",\"v47\"),\n",
    "                  c(\"v14\",\"v47\",\"v50\",\"v66\"),c(\"v10\",\"v113\",\"v47\",\"v66\"),c(\"v14\",\"v24\",\"v50\",\"v66\"),c(\"v47\",\"v50\",\"v56\",\"v66\"),\n",
    "                  c(\"v12\",\"v24\",\"v47\",\"v56\"),c(\"v129\",\"v47\",\"v50\",\"v66\"),c(\"v113\",\"v129\",\"v24\",\"v66\"),c(\"v34\",\"v50\",\"v60\",\"v66\"),\n",
    "                  c(\"v14\",\"v47\",\"v56\",\"v66\"),c(\"v24\",\"v34\",\"v40\",\"v47\"))"
   ]
  },
  {
   "cell_type": "markdown",
   "metadata": {},
   "source": [
    "Done with preliminary preparations, let's load dataset."
   ]
  },
  {
   "cell_type": "code",
   "execution_count": null,
   "metadata": {
    "collapsed": false
   },
   "outputs": [],
   "source": [
    "t1 <- fread(\"train.csv\")\n",
    "s1 <- fread(\"test.csv\")"
   ]
  },
  {
   "cell_type": "markdown",
   "metadata": {},
   "source": [
    "If row_sampling is above zero, run subsampling, to get smaller dataset."
   ]
  },
  {
   "cell_type": "code",
   "execution_count": null,
   "metadata": {
    "collapsed": false
   },
   "outputs": [],
   "source": [
    "if (row_sampling>0){\n",
    "  if (row_sampling==5000 & file.exists(\"./data_trans/train_sample.csv\") & file.exists(\"./data_trans/test_sample.csv\")){\n",
    "      cat(\"reading samples from file\")\n",
    "      train_sample <- fread(\"./data_trans/train_sample.csv\")\n",
    "      test_sample <- fread(\"./data_trans/test_sample.csv\")\n",
    "    } else {\n",
    "    cat(\"no sampling files exist or default row_sampling changed, creating new samples\")\n",
    "    set.seed(102)\n",
    "    train_sample <- data.table(sample=sample(t1$ID, size = row_sampling, replace = FALSE))\n",
    "    write.csv(train_sample, \"./data_trans/train_sample.csv\", row.names=FALSE)\n",
    "    set.seed(103)\n",
    "    test_sample <- data.table(sample=sample(s1$ID, size = row_sampling, replace = FALSE))\n",
    "    write.csv(test_sample, \"./data_trans/test_sample.csv\", row.names=FALSE)\n",
    "  } # end row_sampling==5000 if\n",
    "  \n",
    "  t1 <- t1[ID %in% train_sample$sample]\n",
    "  s1 <- s1[ID %in% test_sample$sample]\n",
    "} # end row_sampling > 0 if\n"
   ]
  },
  {
   "cell_type": "markdown",
   "metadata": {},
   "source": [
    "Import cvFoldsList for consistency if row_sampling is the default (5000), else create new folds"
   ]
  },
  {
   "cell_type": "code",
   "execution_count": null,
   "metadata": {
    "collapsed": false
   },
   "outputs": [],
   "source": [
    "if (row_sampling==5000 & file.exists(\"./data_trans/cvFoldsList.rda\")){\n",
    "    cat(\"loading cvFoldsList from file for consistency\")\n",
    "    load(\"./data_trans/cvFoldsList.rda\")\n",
    "  } else{\n",
    "    cat(\"row_sampling changed from default(5000) or no cvFoldsList file exists, creating new folds\")\n",
    "    set.seed(2016)\n",
    "    cvFoldsList <- createFolds(t1$ID, k=5, list=TRUE) # Need to overwrite when sampling\n",
    "    save(cvFoldsList, file=\"./data_trans/cvFoldsList.rda\")\n",
    "  }"
   ]
  },
  {
   "cell_type": "code",
   "execution_count": null,
   "metadata": {
    "collapsed": true
   },
   "outputs": [],
   "source": [
    "# Add target to test set for binding\n",
    "s1 <- s1[,target:=-1]\n",
    "# Combine into 1 data frame\n",
    "l <- list(t1, s1)\n",
    "ts1 <- data.table(do.call(smartbind,l))\n",
    "# Add pred0, dummy, and filter columns for mean encoding interaction features\n",
    "ts1 <- cbind(pred0=mean(t1$target), dummy=\"A\", filter=c(rep(0, nrow(t1)), rep(2, nrow(s1))), ts1)"
   ]
  },
  {
   "cell_type": "markdown",
   "metadata": {},
   "source": [
    "#### BASELINE GBM\n",
    "Getting a baseline score is one of the first things you should do.\n",
    "\n",
    "This allows us to check if features we engineer are usefull to the model\n",
    "\n",
    "We can also get feature importance from h2o.gbm or xgboost"
   ]
  },
  {
   "cell_type": "code",
   "execution_count": null,
   "metadata": {
    "collapsed": false
   },
   "outputs": [],
   "source": [
    "excludeCols <- c(\"ID\",\"target\",\"filter\",\"dummy\",\"pred0\")\n",
    "varCols <- setdiff(colnames(ts1), excludeCols)\n",
    "# All numerics are greater than 0 so we can set NAs as 1\n",
    "ts1[is.na(ts1)] <- -1\n",
    "# Need to convert categoricals to numeric -- will encode them as numeric instead of dummy encoding to save time/memory\n",
    "factorCols <- colnames(ts1)[sapply(ts1, is.character)]\n",
    "for (col in factorCols){\n",
    "  set(ts1, j=col, value=as.numeric(as.factor(ts1[[col]])))\n",
    "}\n",
    "\n",
    "varnames <- setdiff(colnames(ts1), excludeCols)\n",
    "dtrain <- xgb.DMatrix(data=data.matrix(ts1[filter==0,varnames,with=F]), label=ts1[filter==0,target])\n",
    "\n",
    "param <- list(objective=\"binary:logistic\",\n",
    "              eval_metric=\"logloss\",\n",
    "              eta = .01,\n",
    "              max_depth=7,\n",
    "              min_child_weight=1,\n",
    "              subsample=.8,\n",
    "              colsample_bytree=.4,\n",
    "              nthread=6\n",
    ")\n",
    "\n",
    "set.seed(201512)\n",
    "(tme <- Sys.time())\n",
    "xgbBaselineCV <- xgb.cv(data = dtrain,\n",
    "                        params = param,\n",
    "                        nrounds = 8000,\n",
    "                        folds=cvFoldsList,\n",
    "                        maximize=FALSE,\n",
    "                        prediction=TRUE,\n",
    "                        print.every.n = 50,\n",
    "                        early.stop.round=200)\n",
    "Sys.time() - tme\n",
    "save(xgbBaselineCV, file = \"./stack_models/xgbBaselineCV.rda\")\n",
    "print(paste(\"Best result: \",min(xgbBaselineCV$dt$test.logloss.mean)))\n",
    "# subsampling 5,000 rows from train set -- best logloss -- 0.4892\n",
    "# entire train set -- best logloss -- 0.4629\n"
   ]
  },
  {
   "cell_type": "markdown",
   "metadata": {},
   "source": [
    "Create baseline model for important features and XGBFI"
   ]
  },
  {
   "cell_type": "code",
   "execution_count": null,
   "metadata": {
    "collapsed": false
   },
   "outputs": [],
   "source": [
    "set.seed(201512)\n",
    "(tme <- Sys.time())\n",
    "xgbBaseline <- xgb.train(data = dtrain,\n",
    "                         params = param,\n",
    "                         nrounds = which.min(xgbBaselineCV$dt$test.logloss.mean)) # nrounds from xgbBaseline\n",
    "Sys.time() - tme\n",
    "xgbImp <- xgb.importance(feature_names = varnames, model = xgbBaseline)\n",
    "head(xgbImp,25)"
   ]
  },
  {
   "cell_type": "markdown",
   "metadata": {},
   "source": [
    "#### XGBFI -- https://github.com/Far0n/xgbfi\n",
    "XGBFI is a tool for extracting feature importance and interactions from XGBoost models\n",
    "\n",
    "This can be helpful for feature engineering\n",
    "\n",
    "Requires Mono to run -- http://www.mono-project.com/download/"
   ]
  },
  {
   "cell_type": "code",
   "execution_count": null,
   "metadata": {
    "collapsed": false
   },
   "outputs": [],
   "source": [
    "create_feature_map <- function(fmap_filename, features){\n",
    "  for (i in 1:length(features)){\n",
    "    cat(paste(c(i-1,features[i],\"q\"), collapse = \"\\t\"), file=fmap_filename, sep=\"\\n\", append=TRUE)\n",
    "  }\n",
    "}\n",
    "\n",
    "# Need to create a feature mapping and then dump the XGBoost model\n",
    "if(!file.exists(\"./data_trans/xgbBaseline_fmap.txt\")){ #Create fmap if it doesn't exist already. May need to delete file first if you get an error during xgb.dump\n",
    "  create_feature_map(\"./data_trans/xgbBaseline_fmap.txt\", varnames)\n",
    "}\n",
    "\n",
    "dump_result <- xgb.dump(\n",
    "    model=xgbBaseline, \n",
    "    fname=\"./data_trans/xgbBaseline_dump\", \n",
    "    fmap=\"./data_trans/xgbBaseline_fmap.txt\", \n",
    "    with.stats = TRUE)\n",
    "if(dump_result) {print(\"Dump succesfully created\")}"
   ]
  },
  {
   "cell_type": "markdown",
   "metadata": {},
   "source": [
    "After this you will need to run Xgbfi from the command line (see the GitHub Readme).\n",
    "To save time the output is included in."
   ]
  },
  {
   "cell_type": "code",
   "execution_count": null,
   "metadata": {
    "collapsed": false
   },
   "outputs": [],
   "source": [
    "# Recreate ts1 to undo feature engineering done for baseline\n",
    "ts1 <- data.table(do.call(smartbind,l))\n",
    "# Add pred0, dummy, and filter columns for mean encoding interaction features\n",
    "ts1 <- cbind(pred0=mean(t1$target), dummy=\"A\", filter=c(rep(0, nrow(t1)), rep(2, nrow(s1))), ts1)"
   ]
  },
  {
   "cell_type": "code",
   "execution_count": null,
   "metadata": {
    "collapsed": false
   },
   "outputs": [],
   "source": [
    "# v91 and v107 are the same -- just different labels -- so remove v107\n",
    "set(ts1, j=\"v107\", value=NULL)"
   ]
  },
  {
   "cell_type": "code",
   "execution_count": null,
   "metadata": {
    "collapsed": false
   },
   "outputs": [],
   "source": [
    "# v10 -- round v10 -- convert to categorical later\n",
    "hist(ts1$v10, breaks = 1000) # Frequency spikes at pretty even intervals, so can round the values to the nearest spike and turn into a categorical\n",
    "set(ts1, j=\"v10\", value=round(ts1[,v10]/0.0218818357511,0)) # posted by raddar in the forums"
   ]
  },
  {
   "cell_type": "code",
   "execution_count": null,
   "metadata": {
    "collapsed": false,
    "scrolled": false
   },
   "outputs": [],
   "source": [
    "excludeCols <- c(\"ID\",\"target\",\"filter\",\"dummy\",\"pred0\")\n",
    "varCols <- setdiff(colnames(ts1), excludeCols)"
   ]
  },
  {
   "cell_type": "markdown",
   "metadata": {},
   "source": [
    "#### Create missingness table\n",
    "If you look at the data you will see that rows have similar missingness patterns so we can create a feature\n",
    "that groups together rows with similar missingness patterns. This will better help the GBM split the data."
   ]
  },
  {
   "cell_type": "code",
   "execution_count": null,
   "metadata": {
    "collapsed": true
   },
   "outputs": [],
   "source": [
    "charCols <- which(sapply(ts1[,-excludeCols,with=FALSE], is.character))\n",
    "ts1_miss <- copy(ts1[,-excludeCols,with=FALSE])\n",
    "for (col in charCols){\n",
    "  set(ts1_miss, j=col, value=as.numeric(as.factor(ts1_miss[[col]])))\n",
    "}\n",
    "ts1_miss[!is.na(ts1_miss)] <- 0\n",
    "ts1_miss[is.na(ts1_miss)] <- 1\n",
    "colnames(ts1_miss) <- paste0(colnames(ts1_miss),\"_NA\")"
   ]
  },
  {
   "cell_type": "code",
   "execution_count": null,
   "metadata": {
    "collapsed": true
   },
   "outputs": [],
   "source": [
    "#### Plot a missingness map"
   ]
  },
  {
   "cell_type": "code",
   "execution_count": null,
   "metadata": {
    "collapsed": false
   },
   "outputs": [],
   "source": [
    "ts1_miss[ts1_miss==1] <- NA #convert 1's to NAs for missingness map plot\n",
    "missmap(ts1_miss)\n",
    "ts1_miss[is.na(ts1_miss)] <- 1 #convert NAs back to 1"
   ]
  },
  {
   "cell_type": "markdown",
   "metadata": {},
   "source": [
    "#### K-Means Cluster on missingness\n",
    "This will allow us to create a few distinct groups based on missingness"
   ]
  },
  {
   "cell_type": "code",
   "execution_count": null,
   "metadata": {
    "collapsed": true
   },
   "outputs": [],
   "source": [
    "set.seed(104)\n",
    "ts1_kmeans7 <- kmeans(ts1_miss, centers=7, iter.max=50, nstart=5)\n",
    "km_y_summ7 <- data.table(target=ts1$target, cluster=ts1_kmeans7$cluster, filter=ts1$filter)\n",
    "km7 <- km_y_summ7[filter==0][,list(meanTarget=mean(target)), keyby=cluster] \n",
    "km_y_summ7 <- merge(km_y_summ7, km7, by=\"cluster\")\n",
    "ts1$km7 <- as.factor(make.names(km_y_summ7$cluster))"
   ]
  },
  {
   "cell_type": "markdown",
   "metadata": {},
   "source": [
    "#### ROW SUMMARY VARIABLES\n",
    "These find the max, min, mean, etc. values of the numeric columns for each row. \n",
    "Also count the number of NAs and 0's."
   ]
  },
  {
   "cell_type": "code",
   "execution_count": null,
   "metadata": {
    "collapsed": false,
    "scrolled": false
   },
   "outputs": [],
   "source": [
    "# Identify the numeric columns\n",
    "numCols <- names(which(sapply(ts1[,varCols,with=FALSE], is.numeric)))\n",
    "## Add row summary variables\n",
    "ts1$rowMax <- apply(ts1[, numCols, with=FALSE], 1, max) \n",
    "ts1$rowMin <- apply(ts1[, numCols, with=FALSE], 1, min) \n",
    "ts1$rowMean <- apply(ts1[, numCols, with=FALSE], 1, mean)\n",
    "ts1$rowMed <- apply(ts1[, numCols, with=FALSE], 1, median)\n",
    "ts1$rowSD <- apply(ts1[, numCols, with=FALSE], 1, sd)\n",
    "## Count NAs by row\n",
    "ts1$cntNA <- rowSums(is.na(ts1[, varCols, with=FALSE]))\n",
    "ts1$cntZero <- rowSums(ts1[, varCols, with=FALSE] == 0, na.rm=TRUE)\n",
    "## Round numeric values -- This can sometimes help when a measurement is too granular\n",
    "for (col in numCols){\n",
    "    set(ts1, j=col, value=round(ts1[[col]], 4))\n",
    "}\n",
    "#head(ts1[,(numCols) := round(.SD,4), .SDcols=numCols],25)\n",
    "## Give blank factor levels a name -- just personal preference\n",
    "charCols <- colnames(ts1)[sapply(ts1, is.character)]\n",
    "for (col in 1:length(charCols)){\n",
    "  set(ts1, i=which(is.na(ts1[[charCols[col]]])), j=charCols[col], value=\"NULL\")\n",
    "}"
   ]
  },
  {
   "cell_type": "markdown",
   "metadata": {},
   "source": [
    "#### Convert character columns to factor"
   ]
  },
  {
   "cell_type": "code",
   "execution_count": null,
   "metadata": {
    "collapsed": true
   },
   "outputs": [],
   "source": [
    "## This will be used later when we dummy code variables\n",
    "ts1 <- ts1[,(charCols):=lapply(.SD, as.factor),.SDcols=charCols]\n",
    "\n",
    "## These variables have relatively few unique values compared to the other numeric columns\n",
    "## Converting these variables to factors ended up helping the model\n",
    "ts1$v10 <- as.factor(make.names(ts1$v10)) # 323 unique values\n",
    "ts1$v38 <- as.factor(make.names(ts1$v38)) # 11 unique values\n",
    "ts1$v62 <- as.factor(make.names(ts1$v62)) # 8 unique values\n",
    "ts1$v72 <- as.factor(make.names(ts1$v72)) # 13 unique values\n",
    "ts1$v129 <- as.factor(make.names(ts1$v129)) # 10 unique values"
   ]
  },
  {
   "cell_type": "markdown",
   "metadata": {},
   "source": [
    "#### NAs and zero-variance features"
   ]
  },
  {
   "cell_type": "code",
   "execution_count": null,
   "metadata": {
    "collapsed": true
   },
   "outputs": [],
   "source": [
    "# Converting NAs to -1. Numerics are greater than 0 so -1 is out of range. \n",
    "ts1[is.na(ts1)] <- -1\n",
    "\n",
    "# Get rid of zero variance variables if there are any\n",
    "pp <- preProcess(ts1[filter==0, -excludeCols, with=FALSE], method=\"zv\")\n",
    "ts1 <- predict(pp, ts1)"
   ]
  },
  {
   "cell_type": "markdown",
   "metadata": {},
   "source": [
    "#### INTERACTION COUNTS AND MEAN ENCODING \n",
    "See: http://helios.mm.di.uoa.gr/~rouvas/ssi/sigkdd/sigkdd.vol3.1/barreca.ps\n",
    "\n",
    "The idea is the encode categoricals (usual those with high cardinality) or interactions by the mean of their response.\n",
    "However, instead of encoding as their mean, we encode them in a Bayesian manner, using the overall average response\n",
    "as the prior and the mean response of each categorical value as the posterior. A weighted average of the \n",
    "prior and the posterior is used to encode the categorical variable (or interactions). The weight is based\n",
    "on the frequency of the categorical value (or the frequency of the interaction). I.e. if a category only\n",
    "appears a handful of times then it will be encoded as the overall mean response of the training set, if a category\n",
    "occurs very frequently then most the weight will be placed on the posterior average.\n",
    "\n",
    "##### Numeric interactions"
   ]
  },
  {
   "cell_type": "code",
   "execution_count": null,
   "metadata": {
    "collapsed": false
   },
   "outputs": [],
   "source": [
    "pairs <- combn(c(\"v35\",\"v21\",\"v12\",\"v50\",\"v14\",\"v40\",\"v114\",\"v34\"), 2, simplify=FALSE)\n",
    "cl <- makeCluster(threads)\n",
    "registerDoParallel(cl)\n",
    "set.seed(119)\n",
    "out <- foreach(i=1:length(pairs), .combine='comb', .multicombine=TRUE,\n",
    "               .init=list(list(), list()), .packages=c(\"data.table\")) %dorng% {\n",
    "                 name <- paste0(pairs[[i]][1], \"_\", pairs[[i]][2], \"_int2\") \n",
    "                 tmp <- ts1[,pairs[[i]][1], with=FALSE] / (ts1[,pairs[[i]][2], with=FALSE] + 1e-05)\n",
    "                 if (var(tmp[ts1$filter==0]) != 0) # exclude columns with no variance in the training set\n",
    "                   list(tmp, name)\n",
    "               }\n",
    "stopCluster(cl)\n",
    "pairInts <- as.data.frame(out[[1]])\n",
    "colnames(pairInts) <- unlist(out[[2]])\n",
    "\n",
    "ts1 <- cbind(ts1, pairInts)\n",
    "rm(pairInts); x <- gc() #suppress verbose output"
   ]
  },
  {
   "cell_type": "markdown",
   "metadata": {},
   "source": [
    "#### Factor 2-way interaction counts & means"
   ]
  },
  {
   "cell_type": "code",
   "execution_count": null,
   "metadata": {
    "collapsed": false
   },
   "outputs": [],
   "source": [
    "factCols <- colnames(ts1[,-excludeCols,with=FALSE])[sapply(ts1[,-excludeCols,with=FALSE], is.factor)]\n",
    "pairs <- combn(factCols, 2, simplify=FALSE)\n",
    "\n",
    "cl <- makeCluster(threads)\n",
    "registerDoParallel(cl)\n",
    "set.seed(120)\n",
    "out <- foreach(i=1:length(pairs), .combine='comb', .multicombine=TRUE,\n",
    "               .init=list(list(), list()), .packages=c(\"sqldf\", \"data.table\")) %dorng% {\n",
    "                 name <- paste0(pairs[[i]][1], \"_\", pairs[[i]][2], \"_cnt2\") \n",
    "                 tmp <- my.f2cnt(ts1, pairs[[i]][1], pairs[[i]][2])\n",
    "                 if (var(tmp[ts1$filter==0]) != 0) # exclude columns with no variance in the training set\n",
    "                   list(tmp, name)\n",
    "               }\n",
    "stopCluster(cl)\n",
    "pairCnts <- as.data.frame(out[[1]])\n",
    "colnames(pairCnts) <- unlist(out[[2]])\n",
    "\n",
    "ts1 <- cbind(ts1, pairCnts)\n",
    "rm(pairCnts); x <- gc() #suppress verbose output\n",
    "\n",
    "# 2-way averages\n",
    "cl <- makeCluster(threads)\n",
    "registerDoParallel(cl)\n",
    "set.seed(121)\n",
    "out <- foreach(i=1:length(pairs), .combine='comb', .multicombine=TRUE,\n",
    "               .init=list(list(), list()), .packages=c(\"sqldf\", \"data.table\",\"VGAM\")) %dorng% {\n",
    "                 name <- paste0(paste0(pairs[[i]],collapse=\"_\"), \"_targetMean2way\")\n",
    "                 tmp <- catNWayAvgCV(data = ts1, pairs[[i]], \n",
    "                                     y = \"target\",pred0 = \"pred0\",\n",
    "                                     filter = ts1$filter==0, k = 20, f = 10, r_k = 0.04, cv=cvFoldsList)\n",
    "                 tmp <- logit(pmin(pmax(tmp, 1e-15), 1-1e-15))\n",
    "                 list(tmp, name)\n",
    "               }\n",
    "stopCluster(cl)\n",
    "pairMeans <- as.data.frame(out[[1]])\n",
    "colnames(pairMeans) <- unlist(out[[2]])\n",
    "\n",
    "\n",
    "ts1 <- cbind(ts1, pairMeans)\n",
    "rm(pairMeans); x <- gc() #suppress verbose output"
   ]
  },
  {
   "cell_type": "markdown",
   "metadata": {},
   "source": [
    "#### Add 3-way interaction counts & means"
   ]
  },
  {
   "cell_type": "code",
   "execution_count": null,
   "metadata": {
    "collapsed": false
   },
   "outputs": [],
   "source": [
    "triplets <- combn(c(\"v3\",\"v10\",\"v22\",\"v24\",\"v30\",\"v38\",\n",
    "                    \"v47\",\"v52\", \"v56\", \"v62\",\"v66\",\"v72\",\n",
    "                    \"v74\",\"v75\",\"v79\", \"v91\",\"v110\",\"v112\",\"v113\",\"v125\",\"v129\"), 3, simplify=FALSE)\n",
    "cl <- makeCluster(threads)\n",
    "registerDoParallel(cl)\n",
    "set.seed(122)\n",
    "out <- foreach(i=1:length(triplets), .combine='comb', .multicombine=TRUE,\n",
    "               .init=list(list(), list()), .packages=c(\"sqldf\", \"data.table\")) %dorng% {\n",
    "                 name <- paste0(triplets[[i]][1], \"_\", triplets[[i]][2],\"_\",triplets[[i]][3], \"_cnt3\") \n",
    "                 tmp <- my.f3cnt(ts1, triplets[[i]][1], triplets[[i]][2], triplets[[i]][3])\n",
    "                 if (var(tmp[ts1$filter==0]) != 0)  # exclude columns with no variance in the training set\n",
    "                   list(tmp, name)\n",
    "               }\n",
    "stopCluster(cl)\n",
    "tripCnts <- as.data.frame(out[[1]])\n",
    "colnames(tripCnts) <- unlist(out[[2]])\n",
    "\n",
    "ts1 <- cbind(ts1, tripCnts)\n",
    "rm(tripCnts); x <- gc() #suppress verbose output\n",
    "\n",
    "# add v22 to comb2List \n",
    "comb2List_v22 <- lapply(comb2List, function(x) c(x,\"v22\"))\n",
    "triplets <- c(triplets, comb2List_v22)\n",
    "# sort vectors and remove duplicates\n",
    "triplets <- unique(lapply(triplets, function(x) sort(x)))\n",
    "\n",
    "# triplets <- combn(factCols, 3, simplify=FALSE)\n",
    "cl <- makeCluster(threads)\n",
    "registerDoParallel(cl)\n",
    "set.seed(123)\n",
    "out <- foreach(i=1:length(triplets), .combine='comb', .multicombine=TRUE,\n",
    "               .init=list(list(), list()), .packages=c(\"sqldf\", \"data.table\",\"VGAM\")) %dorng% {\n",
    "                 name <- paste0(paste0(triplets[[i]],collapse=\"_\"), \"_targetMean3way\")\n",
    "                 tmp <- catNWayAvgCV(data = ts1, triplets[[i]], y = \"target\",pred0 = \"pred0\",filter = ts1$filter==0, k = 20, f = 10, r_k = 0.04, cv=cvFoldsList)\n",
    "                 tmp <- logit(pmin(pmax(tmp, 1e-15), 1-1e-15))\n",
    "                 list(tmp, name)\n",
    "               }\n",
    "stopCluster(cl)\n",
    "tripMeans <- as.data.frame(out[[1]])\n",
    "colnames(tripMeans) <- unlist(out[[2]])\n",
    "\n",
    "ts1 <- cbind(ts1, tripMeans)\n",
    "rm(tripMeans); x <- gc() #suppress verbose output"
   ]
  },
  {
   "cell_type": "markdown",
   "metadata": {},
   "source": [
    "#### Add 4-way interaction means"
   ]
  },
  {
   "cell_type": "code",
   "execution_count": null,
   "metadata": {
    "collapsed": false
   },
   "outputs": [],
   "source": [
    "quads <- lapply(comb3List, function(x) c(x,\"v22\"))\n",
    "cl <- makeCluster(threads)\n",
    "registerDoParallel(cl)\n",
    "set.seed(127)\n",
    "out <- foreach(i=1:length(quads), .combine='comb', .multicombine=TRUE,\n",
    "               .init=list(list(), list()), .packages=c(\"sqldf\", \"data.table\",\"VGAM\")) %dorng% {\n",
    "                 name <- paste0(paste0(quads[[i]],collapse=\"_\"), \"_targetMean4way\")\n",
    "                 tmp <- catNWayAvgCV(data = ts1, quads[[i]], \n",
    "                                     y = \"target\",pred0 = \"pred0\",filter = ts1$filter==0, \n",
    "                                     k = 20, f = 10, r_k = 0.04, cv=cvFoldsList)\n",
    "                 tmp <- logit(pmin(pmax(tmp, 1e-15), 1-1e-15))\n",
    "                 list(tmp, name)\n",
    "               }\n",
    "stopCluster(cl)\n",
    "quadMeans <- as.data.frame(out[[1]])\n",
    "colnames(quadMeans) <- unlist(out[[2]])\n",
    "\n",
    "ts1 <- cbind(ts1, quadMeans)\n",
    "rm(quadMeans); x <- gc() #suppress verbose output"
   ]
  },
  {
   "cell_type": "markdown",
   "metadata": {},
   "source": [
    "#### Add 5-way interaction means"
   ]
  },
  {
   "cell_type": "code",
   "execution_count": null,
   "metadata": {
    "collapsed": false
   },
   "outputs": [],
   "source": [
    "quints <- lapply(comb4List, function(x) c(x,\"v22\"))\n",
    "cl <- makeCluster(threads)\n",
    "registerDoParallel(cl)\n",
    "set.seed(131)\n",
    "out <- foreach(i=1:length(quints), .combine='comb', .multicombine=TRUE,\n",
    "               .init=list(list(), list()), .packages=c(\"sqldf\", \"data.table\",\"VGAM\")) %dorng% {\n",
    "                 name <- paste0(paste0(quints[[i]],collapse=\"_\"), \"_targetMean5way\")\n",
    "                 tmp <- catNWayAvgCV(data = ts1, quints[[i]], y = \"target\",pred0 = \"pred0\",filter = ts1$filter==0, k = 20, f = 10, r_k = 0.04, cv=cvFoldsList)\n",
    "                 tmp <- logit(pmin(pmax(tmp, 1e-15), 1-1e-15))\n",
    "                 list(tmp, name)\n",
    "               }\n",
    "stopCluster(cl)\n",
    "quintMeans <- as.data.frame(out[[1]])\n",
    "colnames(quintMeans) <- unlist(out[[2]])\n",
    "\n",
    "ts1 <- cbind(ts1, quintMeans)\n",
    "rm(quintMeans); x <- gc() #suppress verbose output"
   ]
  },
  {
   "cell_type": "markdown",
   "metadata": {},
   "source": [
    "#### Add 7-way interaction means"
   ]
  },
  {
   "cell_type": "code",
   "execution_count": null,
   "metadata": {
    "collapsed": false
   },
   "outputs": [],
   "source": [
    "septups <- combn(c(\"v22\",\"v10\",\"v24\",\"v47\",\"v52\",\n",
    "                   \"v56\", \"v66\",\"v72\", \"v74\", \"v79\",\"v110\",\n",
    "                   \"v113\",\"v125\",\"v129\"), 7, simplify=FALSE)\n",
    "cl <- makeCluster(threads)\n",
    "registerDoParallel(cl)\n",
    "set.seed(135)\n",
    "out <- foreach(i=1:length(septups), .combine='comb', .multicombine=TRUE,\n",
    "               .init=list(list(), list()), .packages=c(\"sqldf\", \"data.table\",\"VGAM\")) %dorng% {\n",
    "                 name <- paste0(paste0(septups[[i]],collapse=\"_\"), \"_targetMean7way\")\n",
    "                 tmp <- catNWayAvgCV(data = ts1, septups[[i]], y = \"target\",\n",
    "                                     pred0 = \"pred0\",filter = ts1$filter==0, \n",
    "                                     k = 20, f = 10, r_k = 0.04, cv=cvFoldsList)\n",
    "                 tmp <- logit(pmin(pmax(tmp, 1e-15), 1-1e-15))\n",
    "                 list(tmp, name)\n",
    "               }\n",
    "stopCluster(cl)\n",
    "septupsMeans <- as.data.frame(out[[1]])\n",
    "colnames(septupsMeans) <- unlist(out[[2]])\n",
    "\n",
    "ts1 <- cbind(ts1, septupsMeans)\n",
    "rm(septupsMeans); x <- gc() #suppress verbose output"
   ]
  },
  {
   "cell_type": "markdown",
   "metadata": {},
   "source": [
    "#### PAIRWISE CORRELATIONS (GOLDEN FEATURES) \n",
    "-- code & idea from Tian Zhou - teammate in Homesite competition\n",
    "\n",
    "The idea of this next section is to identify highly correlated variables and then create a new feature\n",
    "for each pair which is the difference between them. This results in new features which is basically an\n",
    "indiator of when two columns differ.\n",
    "\n",
    "Next cell can be skipped for sake of time saving"
   ]
  },
  {
   "cell_type": "code",
   "execution_count": null,
   "metadata": {
    "collapsed": true
   },
   "outputs": [],
   "source": [
    "numCols <- colnames(ts1[,-excludeCols,with=FALSE])[sapply(ts1[,-excludeCols,with=FALSE], is.numeric)] # will need this later\n",
    "featCor <- cor(ts1[,numCols,with=FALSE])\n",
    "hc <- findCorrelation(featCor, cutoff=0.997 ,names=TRUE)  # find highly correlated variables\n",
    "hc <- sort(hc)\n",
    "write.csv(hc, \"./data_trans/hc.csv\", row.names=F)\n",
    "save(featCor, file=\"./data_trans/featCor_v31.rda\")\n",
    "\n",
    "featCorDF <- abs(featCor[!rownames(featCor) %in% hc, !colnames(featCor) %in% hc])\n",
    "featCorDF[upper.tri(featCorDF, diag=TRUE)] <- NA\n",
    "featCorDF <- melt(featCorDF, varnames = c('V1','V2'), na.rm=TRUE)\n",
    "featCorDF <- featCorDF[order(featCorDF$value, decreasing=TRUE),]\n",
    "\n",
    "\n",
    "goldFeats <- 300\n",
    "feat_gold <- gold_features(featCorDF, goldFeats)\n",
    "write.csv(as.character(featCorDF$V2[1:goldFeats]), file = \"./data_trans/goldFeatNames.csv\",row.names=FALSE)\n",
    "\n",
    "# Do not parallelize -- too much memory for some reason\n",
    "cl <- makeCluster(1)\n",
    "registerDoParallel(cl)\n",
    "set.seed(136)\n",
    "out <- foreach(i=1:length(feat_gold), .combine='comb', .multicombine=TRUE,\n",
    "               .init=list(list(), list()), .packages=c(\"data.table\")) %dorng% {\n",
    "                 name <- paste0(feat_gold[[i]][[1]],\"_\",feat_gold[[i]][[2]],\"_cor\")\n",
    "                 tmp <- ts1[,as.character(feat_gold[[i]][[1]]), with=FALSE] - ts1[,as.character(feat_gold[[i]][[2]]), with=FALSE]\n",
    "                 list(tmp, name)\n",
    "               }\n",
    "stopCluster(cl)\n",
    "goldMeans <- as.data.frame(out[[1]])\n",
    "colnames(goldMeans) <- unlist(out[[2]])\n",
    "write.csv(goldMeans, \"./data_trans/goldMeans.csv\")"
   ]
  },
  {
   "cell_type": "code",
   "execution_count": null,
   "metadata": {
    "collapsed": false
   },
   "outputs": [],
   "source": [
    "## Since featCor takes awhile to calculate, we'll import a previously run version to save time\n",
    "goldMeans <- fread(\"./data_trans/goldMeans.csv\")\n",
    "ts1 <- cbind(ts1, goldMeans)\n",
    "rm(goldMeans)\n",
    "x <- gc() #suppress verbose output\n",
    "\n",
    "goldFeats <- 100\n",
    "feat_gold <- gold_featuresUnCor(featCorDF, goldFeats)\n",
    "\n",
    "# Do not parallelize -- too much memory for some reason\n",
    "cl <- makeCluster(1)\n",
    "registerDoParallel(cl)\n",
    "set.seed(136)\n",
    "out <- foreach(i=1:length(feat_gold), .combine='comb', .multicombine=TRUE,\n",
    "               .init=list(list(), list()), .packages=c(\"data.table\")) %dorng% {\n",
    "                 name <- paste0(feat_gold[[i]][[1]],\"_\",feat_gold[[i]][[2]],\"_corAdd\")\n",
    "                 tmp <- ts1[,as.character(feat_gold[[i]][[1]]), with=FALSE] + ts1[,as.character(feat_gold[[i]][[2]]), with=FALSE]\n",
    "                 list(tmp, name)\n",
    "               }\n",
    "stopCluster(cl)\n",
    "goldAdds <- as.data.frame(out[[1]])\n",
    "colnames(goldAdds) <- unlist(out[[2]])\n",
    "write.csv(goldAdds, \"./data_trans/goldAdds.csv\")\n",
    "\n",
    "## Since featCor takes awhile to calculate, we'll import a previously run version to save time\n",
    "goldAdds <- fread(\"./data_trans/goldAdds.csv\")\n",
    "ts1 <- cbind(ts1, goldAdds)\n",
    "rm(goldAdds)\n",
    "x <- gc() #suppress verbose output\n",
    "\n",
    "hc <- fread(\"./data_trans/hc.csv\")\n",
    "goldFeatNames <- fread(\"./data_trans/goldFeatNames.csv\")\n",
    "if (length(c(hc$x,goldFeatNames$x)>0))\n",
    "  ts1 <- ts1[,-c(hc$x,goldFeatNames$x),with=FALSE]\n",
    "######################################################"
   ]
  },
  {
   "cell_type": "markdown",
   "metadata": {},
   "source": [
    "#### HELPER COLUMNS\n",
    "The idea is to identify columns for each class that will help differentiate that class from the other classes\n",
    "These columns are then added together to create a new feature that will hopefully improve the model\n",
    "Only numeric columns can be used (can convert categoricals to dummy or mean encodings)\n",
    "Numeric columns need to be centered and scaled before choosing features."
   ]
  },
  {
   "cell_type": "code",
   "execution_count": null,
   "metadata": {
    "collapsed": true
   },
   "outputs": [],
   "source": [
    "# Scale variables so a few don't overpower the helper columns\n",
    "pp <- preProcess(ts1[filter==0,-excludeCols,with=FALSE], method=c(\"zv\",\"center\",\"scale\",\"medianImpute\"))\n",
    "ts1 <- predict(pp, ts1)\n",
    "\n",
    "# summ <- as.data.frame(ts1[ts1$filter==0, colnames(ts1) %in% c(\"target\",numCols),with=FALSE] %>% group_by(target) %>%\n",
    "#                         summarise_each(funs(mean)))\n",
    "cols <- c(\"target\",numCols)\n",
    "summ <- ts1[filter==0, colnames(ts1) %in% cols, with=FALSE][,lapply(.SD, mean) , by=target]\n",
    "\n",
    "# Find means and sd's for columns\n",
    "mn1 <- sapply(summ[,2:ncol(summ),with=F], mean)\n",
    "sd1 <- sapply(summ[,2:ncol(summ),with=F], sd)\n",
    "# Find upper and lower thresholds\n",
    "hi <- mn1+2*sd1\n",
    "lo <- mn1-2*sd1\n",
    "\n",
    "helpCols <- list()\n",
    "for (i in 0:1){\n",
    "  tmpHi <- (summ[summ$target==i,2:ncol(summ),with=F] - mn1)/sd1\n",
    "  hiNames <- colnames(tmpHi[,order(tmpHi),with=F][,1:30,with=F])\n",
    "  loNames <- colnames(tmpHi[,order(tmpHi,decreasing = TRUE), with=F][,1:30,with=F])\n",
    "  \n",
    "  helpCols[[i+1]] <- c(hiNames, loNames)\n",
    "  \n",
    "}\n",
    "names(helpCols) <- paste0(\"X\", seq_along(helpCols)-1)\n",
    "\n",
    "for (i in 0:1){\n",
    "  ts1[[ncol(ts1)+1]] <- rowSums(ts1[,helpCols[[i+1]], with=FALSE])\n",
    "  colnames(ts1)[ncol(ts1)] <- paste0(\"X\", i, \"_helper\")}"
   ]
  },
  {
   "cell_type": "markdown",
   "metadata": {},
   "source": [
    "#### Create summary variables for high-dimensional factors"
   ]
  },
  {
   "cell_type": "code",
   "execution_count": null,
   "metadata": {
    "collapsed": false
   },
   "outputs": [],
   "source": [
    "factorCols <- colnames(ts1)[sapply(ts1, is.factor)]\n",
    "highCardFacts <- colnames(ts1[,factorCols,with=FALSE])[sapply(ts1[,factorCols,with=FALSE], function(x) length(unique(x))>30)]\n",
    "\n",
    "for(ii in highCardFacts) {\n",
    "  print(ii)\n",
    "  x <- data.frame(x1=ts1[, ii,with=FALSE])\n",
    "  x[,ii] <- as.numeric(x[,ii])\n",
    "  ts1[, paste(ii, \"_num\", sep=\"\")] <- x\n",
    "}\n",
    "\n",
    "\n",
    "for(ii in highCardFacts) {\n",
    "  print(ii)\n",
    "  x <- data.table(x1=ts1[, ii,with=FALSE])\n",
    "  colnames(x) <- \"x1\"\n",
    "  x$x1 <- as.numeric(x$x1)\n",
    "  sum1 <- x[, list(cnt=.N), by=x1]\n",
    "  tmp <- merge(x, sum1, by=\"x1\", all.x=T)\n",
    "  ts1[, paste(ii, \"_cnt\", sep=\"\")] <- tmp$cnt\n",
    "}\n",
    "\n",
    "# Replace high cardinality factors with target mean\n",
    "for(ii in highCardFacts) {\n",
    "  name <- paste0(ii, \"_targetMean\")\n",
    "  ts1[,name] <- catNWayAvgCV(data = ts1, c(ii, \"dummy\"), y = \"target\",pred0 = \"pred0\",filter = ts1$filter==0, k = 20, f = 10, r_k = 0.04, cv=cvFoldsList)\n",
    "}\n",
    "\n",
    "# Remove high cardinality factors now that we've encoded them\n",
    "ts1 <- ts1[,!colnames(ts1) %in% highCardFacts,with=FALSE]"
   ]
  },
  {
   "cell_type": "markdown",
   "metadata": {},
   "source": [
    "#### Create dummy variables for low-dimensional factors"
   ]
  },
  {
   "cell_type": "code",
   "execution_count": null,
   "metadata": {
    "collapsed": true
   },
   "outputs": [],
   "source": [
    "factorCols <- colnames(ts1[,-excludeCols,with=FALSE])[sapply(ts1[,-excludeCols,with=FALSE], is.factor)]\n",
    "ts1_dum <- as.data.table(model.matrix(~ ., data=ts1[,factorCols,with=FALSE] ))[,-1,with=FALSE]\n",
    "# remove factor cols\n",
    "ts1 <- ts1[,-factorCols, with=F]\n",
    "ts1 <- cbind(ts1, ts1_dum)"
   ]
  },
  {
   "cell_type": "markdown",
   "metadata": {},
   "source": [
    "#### Write CSV file"
   ]
  },
  {
   "cell_type": "code",
   "execution_count": null,
   "metadata": {
    "collapsed": false
   },
   "outputs": [],
   "source": [
    "ts1 <- ts1[order(ts1$filter, ts1$ID),]\n",
    "write.csv(ts1, \"./data_trans/ts2Trans_v31.csv\", row.names=FALSE)"
   ]
  }
 ],
 "metadata": {
  "anaconda-cloud": {},
  "kernelspec": {
   "display_name": "R",
   "language": "R",
   "name": "ir"
  },
  "language_info": {
   "codemirror_mode": "r",
   "file_extension": ".r",
   "mimetype": "text/x-r-source",
   "name": "R",
   "pygments_lexer": "r",
   "version": "3.3.1"
  }
 },
 "nbformat": 4,
 "nbformat_minor": 1
}
